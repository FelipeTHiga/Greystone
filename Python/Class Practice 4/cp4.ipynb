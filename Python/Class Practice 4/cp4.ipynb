{
 "cells": [
  {
   "cell_type": "markdown",
   "metadata": {},
   "source": [
    "### Part 1"
   ]
  },
  {
   "cell_type": "code",
   "execution_count": 1,
   "metadata": {},
   "outputs": [],
   "source": [
    "import pandas as pd"
   ]
  },
  {
   "cell_type": "markdown",
   "metadata": {},
   "source": [
    "NULL values and analytics\n"
   ]
  },
  {
   "cell_type": "code",
   "execution_count": null,
   "metadata": {},
   "outputs": [],
   "source": [
    "# Import the file called Police.csv to the notebook. Note the date column\n",
    "df = pd.read_csv(\"../Python-DataFiles/Lesson 3/police.csv\", \n",
    "                  engine = \"python\",\n",
    "                  skipfooter = 1,\n",
    "                  parse_dates = [\"stop_date\"],\n",
    "                  dayfirst = True)\n",
    "\n",
    "df.info()"
   ]
  },
  {
   "cell_type": "code",
   "execution_count": null,
   "metadata": {},
   "outputs": [],
   "source": [
    "# Delete all empty columns from the df, and determine which operation to use\n",
    "# How many column (s) were deleted?\n",
    "df.drop(columns=\"county_name\", inplace= True)"
   ]
  },
  {
   "cell_type": "code",
   "execution_count": null,
   "metadata": {},
   "outputs": [],
   "source": [
    "df.info()"
   ]
  },
  {
   "cell_type": "code",
   "execution_count": null,
   "metadata": {},
   "outputs": [],
   "source": [
    "# Check how many blank values there are in the column search_type\n",
    "df[\"search_type\"].isnull().sum()"
   ]
  },
  {
   "cell_type": "code",
   "execution_count": 12,
   "metadata": {},
   "outputs": [],
   "source": [
    "# Delete rows that contain NULL values in only one of the following columns:\n",
    "# stop_date\n",
    "# violation_raw\n",
    "# violation\n",
    "\n",
    "df.dropna(subset=[\"stop_date\", \"violation_raw\", \"violation\"], \n",
    "          inplace=True)"
   ]
  },
  {
   "cell_type": "code",
   "execution_count": null,
   "metadata": {},
   "outputs": [],
   "source": [
    "df.info()"
   ]
  },
  {
   "cell_type": "code",
   "execution_count": null,
   "metadata": {},
   "outputs": [],
   "source": [
    "# How many blank rows are there in the column driver_age ?\n",
    "df[\"driver_age\"].isna().sum()"
   ]
  },
  {
   "cell_type": "code",
   "execution_count": null,
   "metadata": {},
   "outputs": [],
   "source": [
    "# What is the percentage of blank rows in the driver_age column?\n",
    "df[\"driver_age\"].isna().sum() / len(df) * 100"
   ]
  },
  {
   "cell_type": "code",
   "execution_count": null,
   "metadata": {},
   "outputs": [],
   "source": [
    "# What is the average value in the driver_age column?\n",
    "df[\"driver_age\"].mean()"
   ]
  },
  {
   "cell_type": "code",
   "execution_count": 27,
   "metadata": {},
   "outputs": [
    {
     "name": "stderr",
     "output_type": "stream",
     "text": [
      "C:\\Users\\Felipe\\AppData\\Local\\Temp\\ipykernel_32972\\2903611222.py:3: FutureWarning: A value is trying to be set on a copy of a DataFrame or Series through chained assignment using an inplace method.\n",
      "The behavior will change in pandas 3.0. This inplace method will never work because the intermediate object on which we are setting values always behaves as a copy.\n",
      "\n",
      "For example, when doing 'df[col].method(value, inplace=True)', try using 'df.method({col: value}, inplace=True)' or df[col] = df[col].method(value) instead, to perform the operation inplace on the original object.\n",
      "\n",
      "\n",
      "  df[\"driver_age\"].fillna(int(df[\"driver_age\"].mean()), inplace = True)\n"
     ]
    }
   ],
   "source": [
    "# Fill in the missing values in the driver_age column with the average value of the\n",
    "# column, rounded to the nearest whole number\n",
    "df[\"driver_age\"].fillna(int(df[\"driver_age\"].mean()), inplace = True)"
   ]
  },
  {
   "cell_type": "code",
   "execution_count": 28,
   "metadata": {},
   "outputs": [
    {
     "data": {
      "text/plain": [
       "34.01136481997986"
      ]
     },
     "execution_count": 28,
     "metadata": {},
     "output_type": "execute_result"
    }
   ],
   "source": [
    "# What is the new average value in the driver_age column?\n",
    "df[\"driver_age\"].mean()"
   ]
  },
  {
   "cell_type": "markdown",
   "metadata": {},
   "source": [
    "Aggregative methods"
   ]
  },
  {
   "cell_type": "code",
   "execution_count": 29,
   "metadata": {},
   "outputs": [
    {
     "data": {
      "text/plain": [
       "237423.0"
      ]
     },
     "execution_count": 29,
     "metadata": {},
     "output_type": "execute_result"
    }
   ],
   "source": [
    "# What is the total monetary amount of all tickets given to drivers (ticket_amount)\n",
    "df[\"ticket_amount\"].sum()"
   ]
  },
  {
   "cell_type": "code",
   "execution_count": 30,
   "metadata": {},
   "outputs": [
    {
     "data": {
      "text/plain": [
       "187053.0"
      ]
     },
     "execution_count": 30,
     "metadata": {},
     "output_type": "execute_result"
    }
   ],
   "source": [
    "# What is the total monetary amount of tickets given to drivers aged 20-50?\n",
    "where1 = df[\"driver_age\"] >= 20\n",
    "where2 = df[\"driver_age\"] <= 50\n",
    "\n",
    "df.loc[where1&where2, \"ticket_amount\"].sum()"
   ]
  },
  {
   "cell_type": "code",
   "execution_count": 34,
   "metadata": {},
   "outputs": [
    {
     "data": {
      "text/plain": [
       "214.77197802197801"
      ]
     },
     "execution_count": 34,
     "metadata": {},
     "output_type": "execute_result"
    }
   ],
   "source": [
    "# What is the average monetary amount of tickets given to women?\n",
    "df.loc[df[\"driver_gender\"] == \"F\", \"ticket_amount\"].mean()"
   ]
  },
  {
   "cell_type": "code",
   "execution_count": 38,
   "metadata": {},
   "outputs": [
    {
     "data": {
      "text/plain": [
       "60.0"
      ]
     },
     "execution_count": 38,
     "metadata": {},
     "output_type": "execute_result"
    }
   ],
   "source": [
    "# What is the maximum age of male drivers arrested for speeding?\n",
    "where1 = df[\"driver_gender\"] == \"M\"\n",
    "where2 = df[\"violation\"] == \"Speeding\"\n",
    "\n",
    "df.loc[df[\"is_arrested\"] & where1 & where2, \"driver_age\"].max()"
   ]
  },
  {
   "cell_type": "code",
   "execution_count": 43,
   "metadata": {},
   "outputs": [
    {
     "data": {
      "text/plain": [
       "64"
      ]
     },
     "execution_count": 43,
     "metadata": {},
     "output_type": "execute_result"
    }
   ],
   "source": [
    "# How many women have been arrested for the traffic offense Call for Service?\n",
    "where1 = df[\"driver_gender\"] == \"F\"\n",
    "where2 = df[\"violation_raw\"] == \"Call for Service\"\n",
    "\n",
    "df.loc[df[\"is_arrested\"] & where1 & where2, \"stop_date\"].count()\n"
   ]
  },
  {
   "cell_type": "code",
   "execution_count": 50,
   "metadata": {},
   "outputs": [],
   "source": [
    "# Who had more vehicle searches conducted (search_conducted), men or women?\n",
    "# By what percentage more?\n",
    "where = df[\"driver_gender\"] == \"M\"\n",
    "\n",
    "MSearch = df.loc[where, \"search_conducted\"].sum()"
   ]
  },
  {
   "cell_type": "code",
   "execution_count": 49,
   "metadata": {},
   "outputs": [],
   "source": [
    "where = df[\"driver_gender\"] == \"F\"\n",
    "\n",
    "FSearch = df.loc[where, \"search_conducted\"].sum()"
   ]
  },
  {
   "cell_type": "code",
   "execution_count": 51,
   "metadata": {},
   "outputs": [
    {
     "data": {
      "text/plain": [
       "578.5562632696391"
      ]
     },
     "execution_count": 51,
     "metadata": {},
     "output_type": "execute_result"
    }
   ],
   "source": [
    "MSearch / FSearch * 100"
   ]
  },
  {
   "cell_type": "code",
   "execution_count": null,
   "metadata": {},
   "outputs": [],
   "source": []
  }
 ],
 "metadata": {
  "kernelspec": {
   "display_name": "Python 3",
   "language": "python",
   "name": "python3"
  },
  "language_info": {
   "codemirror_mode": {
    "name": "ipython",
    "version": 3
   },
   "file_extension": ".py",
   "mimetype": "text/x-python",
   "name": "python",
   "nbconvert_exporter": "python",
   "pygments_lexer": "ipython3",
   "version": "3.11.9"
  }
 },
 "nbformat": 4,
 "nbformat_minor": 2
}
