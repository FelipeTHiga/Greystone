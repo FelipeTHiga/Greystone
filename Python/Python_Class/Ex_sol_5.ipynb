{
 "cells": [
  {
   "cell_type": "code",
   "execution_count": 3,
   "metadata": {},
   "outputs": [],
   "source": [
    "# Import the Pandas Library to the notebook\n",
    "import pandas as pd"
   ]
  },
  {
   "cell_type": "markdown",
   "metadata": {},
   "source": [
    "### Grouping and aggregate"
   ]
  },
  {
   "cell_type": "code",
   "execution_count": 4,
   "metadata": {},
   "outputs": [
    {
     "name": "stdout",
     "output_type": "stream",
     "text": [
      "<class 'pandas.core.frame.DataFrame'>\n",
      "RangeIndex: 91741 entries, 0 to 91740\n",
      "Data columns (total 16 columns):\n",
      " #   Column              Non-Null Count  Dtype         \n",
      "---  ------              --------------  -----         \n",
      " 0   stop_date           91741 non-null  datetime64[ns]\n",
      " 1   stop_time           91741 non-null  object        \n",
      " 2   county_name         0 non-null      float64       \n",
      " 3   driver_gender       86406 non-null  object        \n",
      " 4   driver_age_raw      86414 non-null  float64       \n",
      " 5   driver_age          86120 non-null  float64       \n",
      " 6   driver_race         86408 non-null  object        \n",
      " 7   violation_raw       86408 non-null  object        \n",
      " 8   violation           86408 non-null  object        \n",
      " 9   search_conducted    91741 non-null  bool          \n",
      " 10  search_type         3196 non-null   object        \n",
      " 11  stop_outcome        86408 non-null  object        \n",
      " 12  is_arrested         86408 non-null  object        \n",
      " 13  ticket_amount       1082 non-null   float64       \n",
      " 14  stop_duration       86408 non-null  object        \n",
      " 15  drugs_related_stop  91741 non-null  bool          \n",
      "dtypes: bool(2), datetime64[ns](1), float64(4), object(9)\n",
      "memory usage: 10.0+ MB\n"
     ]
    }
   ],
   "source": [
    "# Import the police.csv file into df\n",
    "df = pd.read_csv(\"../Python-DataFiles/Lesson 5/police.csv\",                   \n",
    "                  engine=\"python\",\n",
    "                  parse_dates=[\"stop_date\"],\n",
    "                  dayfirst=True)\n",
    "df.info()"
   ]
  },
  {
   "cell_type": "code",
   "execution_count": 5,
   "metadata": {},
   "outputs": [],
   "source": [
    "# Create a new column called stop_year, which will contain only the year a vehicle\n",
    "# was stopped by traffic police\n",
    "df[\"stop_year\"] = df[\"stop_date\"].dt.year\n"
   ]
  },
  {
   "cell_type": "code",
   "execution_count": 6,
   "metadata": {},
   "outputs": [],
   "source": [
    "# Add a column called stop_month that will contain the month the vehicle was\n",
    "# stopped by traffic police\n",
    "df[\"stop_month\"] = df[\"stop_date\"].dt.month\n"
   ]
  },
  {
   "cell_type": "code",
   "execution_count": 7,
   "metadata": {},
   "outputs": [
    {
     "data": {
      "text/html": [
       "<div>\n",
       "<style scoped>\n",
       "    .dataframe tbody tr th:only-of-type {\n",
       "        vertical-align: middle;\n",
       "    }\n",
       "\n",
       "    .dataframe tbody tr th {\n",
       "        vertical-align: top;\n",
       "    }\n",
       "\n",
       "    .dataframe thead th {\n",
       "        text-align: right;\n",
       "    }\n",
       "</style>\n",
       "<table border=\"1\" class=\"dataframe\">\n",
       "  <thead>\n",
       "    <tr style=\"text-align: right;\">\n",
       "      <th></th>\n",
       "      <th>stop_date</th>\n",
       "      <th>stop_year</th>\n",
       "      <th>stop_month</th>\n",
       "    </tr>\n",
       "  </thead>\n",
       "  <tbody>\n",
       "    <tr>\n",
       "      <th>0</th>\n",
       "      <td>2005-01-02</td>\n",
       "      <td>2005</td>\n",
       "      <td>1</td>\n",
       "    </tr>\n",
       "    <tr>\n",
       "      <th>1</th>\n",
       "      <td>2005-01-18</td>\n",
       "      <td>2005</td>\n",
       "      <td>1</td>\n",
       "    </tr>\n",
       "    <tr>\n",
       "      <th>2</th>\n",
       "      <td>2005-01-23</td>\n",
       "      <td>2005</td>\n",
       "      <td>1</td>\n",
       "    </tr>\n",
       "    <tr>\n",
       "      <th>3</th>\n",
       "      <td>2005-02-20</td>\n",
       "      <td>2005</td>\n",
       "      <td>2</td>\n",
       "    </tr>\n",
       "    <tr>\n",
       "      <th>4</th>\n",
       "      <td>2005-03-14</td>\n",
       "      <td>2005</td>\n",
       "      <td>3</td>\n",
       "    </tr>\n",
       "    <tr>\n",
       "      <th>...</th>\n",
       "      <td>...</td>\n",
       "      <td>...</td>\n",
       "      <td>...</td>\n",
       "    </tr>\n",
       "    <tr>\n",
       "      <th>91736</th>\n",
       "      <td>2015-12-31</td>\n",
       "      <td>2015</td>\n",
       "      <td>12</td>\n",
       "    </tr>\n",
       "    <tr>\n",
       "      <th>91737</th>\n",
       "      <td>2015-12-31</td>\n",
       "      <td>2015</td>\n",
       "      <td>12</td>\n",
       "    </tr>\n",
       "    <tr>\n",
       "      <th>91738</th>\n",
       "      <td>2015-12-31</td>\n",
       "      <td>2015</td>\n",
       "      <td>12</td>\n",
       "    </tr>\n",
       "    <tr>\n",
       "      <th>91739</th>\n",
       "      <td>2015-12-31</td>\n",
       "      <td>2015</td>\n",
       "      <td>12</td>\n",
       "    </tr>\n",
       "    <tr>\n",
       "      <th>91740</th>\n",
       "      <td>2015-12-31</td>\n",
       "      <td>2015</td>\n",
       "      <td>12</td>\n",
       "    </tr>\n",
       "  </tbody>\n",
       "</table>\n",
       "<p>91741 rows × 3 columns</p>\n",
       "</div>"
      ],
      "text/plain": [
       "       stop_date  stop_year  stop_month\n",
       "0     2005-01-02       2005           1\n",
       "1     2005-01-18       2005           1\n",
       "2     2005-01-23       2005           1\n",
       "3     2005-02-20       2005           2\n",
       "4     2005-03-14       2005           3\n",
       "...          ...        ...         ...\n",
       "91736 2015-12-31       2015          12\n",
       "91737 2015-12-31       2015          12\n",
       "91738 2015-12-31       2015          12\n",
       "91739 2015-12-31       2015          12\n",
       "91740 2015-12-31       2015          12\n",
       "\n",
       "[91741 rows x 3 columns]"
      ]
     },
     "execution_count": 7,
     "metadata": {},
     "output_type": "execute_result"
    }
   ],
   "source": [
    "# Check that the columns have been added correctly and that they contain the\n",
    "# correct information\n",
    "df[[\"stop_date\",\"stop_year\",\"stop_month\"]]"
   ]
  },
  {
   "cell_type": "code",
   "execution_count": 8,
   "metadata": {},
   "outputs": [],
   "source": [
    "# Group the data by year, and save into a new object called g_year\n",
    "g_year = df.groupby(\"stop_year\")"
   ]
  },
  {
   "cell_type": "code",
   "execution_count": 9,
   "metadata": {},
   "outputs": [
    {
     "data": {
      "text/plain": [
       "stop_year\n",
       "2012    10970\n",
       "2006    10639\n",
       "2007     9476\n",
       "dtype: int64"
      ]
     },
     "execution_count": 9,
     "metadata": {},
     "output_type": "execute_result"
    }
   ],
   "source": [
    "# Use the g_year object and show the three years in which the most tickets were\n",
    "# given, and the amount of tickets given each year\n",
    "g_year.size().sort_values(ascending= False).head(3)\n"
   ]
  },
  {
   "cell_type": "code",
   "execution_count": 10,
   "metadata": {},
   "outputs": [
    {
     "data": {
      "text/plain": [
       "stop_year\n",
       "2005     2558\n",
       "2006    10639\n",
       "2007     9476\n",
       "2008     8752\n",
       "2009     7908\n",
       "2010     7561\n",
       "2011     8126\n",
       "2012    10970\n",
       "2013     7924\n",
       "2014     9228\n",
       "2015     8599\n",
       "dtype: int64"
      ]
     },
     "execution_count": 10,
     "metadata": {},
     "output_type": "execute_result"
    }
   ],
   "source": [
    "# How many traffic offenses were committed each year?\n",
    "g_year.size()"
   ]
  },
  {
   "cell_type": "code",
   "execution_count": 11,
   "metadata": {},
   "outputs": [
    {
     "data": {
      "text/plain": [
       "stop_year\n",
       "2005    233.333333\n",
       "2006    225.960000\n",
       "2007    201.565217\n",
       "2008    200.785714\n",
       "2009    219.866667\n",
       "2010    201.263158\n",
       "2011    218.774510\n",
       "2012    219.386243\n",
       "2013    224.380000\n",
       "2014    207.813953\n",
       "2015    219.875000\n",
       "Name: ticket_amount, dtype: float64"
      ]
     },
     "execution_count": 11,
     "metadata": {},
     "output_type": "execute_result"
    }
   ],
   "source": [
    "# What is the average number of the tickets for that year (ticket_amount)?\n",
    "g_year[\"ticket_amount\"].mean()\n"
   ]
  },
  {
   "cell_type": "code",
   "execution_count": 12,
   "metadata": {},
   "outputs": [
    {
     "data": {
      "text/plain": [
       "stop_year\n",
       "2005     21000.0\n",
       "2006      5649.0\n",
       "2007      4636.0\n",
       "2008      2811.0\n",
       "2009      9894.0\n",
       "2010      3824.0\n",
       "2011     22315.0\n",
       "2012    124392.0\n",
       "2013     11219.0\n",
       "2014      8936.0\n",
       "2015     22867.0\n",
       "Name: ticket_amount, dtype: float64"
      ]
     },
     "execution_count": 12,
     "metadata": {},
     "output_type": "execute_result"
    }
   ],
   "source": [
    "# What is the total monetary amount of tickets for that year?\n",
    "g_year[\"ticket_amount\"].sum()"
   ]
  },
  {
   "cell_type": "code",
   "execution_count": 13,
   "metadata": {},
   "outputs": [
    {
     "data": {
      "text/html": [
       "<div>\n",
       "<style scoped>\n",
       "    .dataframe tbody tr th:only-of-type {\n",
       "        vertical-align: middle;\n",
       "    }\n",
       "\n",
       "    .dataframe tbody tr th {\n",
       "        vertical-align: top;\n",
       "    }\n",
       "\n",
       "    .dataframe thead th {\n",
       "        text-align: right;\n",
       "    }\n",
       "</style>\n",
       "<table border=\"1\" class=\"dataframe\">\n",
       "  <thead>\n",
       "    <tr style=\"text-align: right;\">\n",
       "      <th></th>\n",
       "      <th>count</th>\n",
       "      <th>mean</th>\n",
       "      <th>sum</th>\n",
       "    </tr>\n",
       "    <tr>\n",
       "      <th>stop_year</th>\n",
       "      <th></th>\n",
       "      <th></th>\n",
       "      <th></th>\n",
       "    </tr>\n",
       "  </thead>\n",
       "  <tbody>\n",
       "    <tr>\n",
       "      <th>2005</th>\n",
       "      <td>2558</td>\n",
       "      <td>233.333333</td>\n",
       "      <td>21000.0</td>\n",
       "    </tr>\n",
       "    <tr>\n",
       "      <th>2006</th>\n",
       "      <td>10639</td>\n",
       "      <td>225.960000</td>\n",
       "      <td>5649.0</td>\n",
       "    </tr>\n",
       "    <tr>\n",
       "      <th>2007</th>\n",
       "      <td>9476</td>\n",
       "      <td>201.565217</td>\n",
       "      <td>4636.0</td>\n",
       "    </tr>\n",
       "    <tr>\n",
       "      <th>2008</th>\n",
       "      <td>8752</td>\n",
       "      <td>200.785714</td>\n",
       "      <td>2811.0</td>\n",
       "    </tr>\n",
       "    <tr>\n",
       "      <th>2009</th>\n",
       "      <td>7908</td>\n",
       "      <td>219.866667</td>\n",
       "      <td>9894.0</td>\n",
       "    </tr>\n",
       "    <tr>\n",
       "      <th>2010</th>\n",
       "      <td>7561</td>\n",
       "      <td>201.263158</td>\n",
       "      <td>3824.0</td>\n",
       "    </tr>\n",
       "    <tr>\n",
       "      <th>2011</th>\n",
       "      <td>8126</td>\n",
       "      <td>218.774510</td>\n",
       "      <td>22315.0</td>\n",
       "    </tr>\n",
       "    <tr>\n",
       "      <th>2012</th>\n",
       "      <td>10970</td>\n",
       "      <td>219.386243</td>\n",
       "      <td>124392.0</td>\n",
       "    </tr>\n",
       "    <tr>\n",
       "      <th>2013</th>\n",
       "      <td>7924</td>\n",
       "      <td>224.380000</td>\n",
       "      <td>11219.0</td>\n",
       "    </tr>\n",
       "    <tr>\n",
       "      <th>2014</th>\n",
       "      <td>9228</td>\n",
       "      <td>207.813953</td>\n",
       "      <td>8936.0</td>\n",
       "    </tr>\n",
       "    <tr>\n",
       "      <th>2015</th>\n",
       "      <td>8599</td>\n",
       "      <td>219.875000</td>\n",
       "      <td>22867.0</td>\n",
       "    </tr>\n",
       "  </tbody>\n",
       "</table>\n",
       "</div>"
      ],
      "text/plain": [
       "           count        mean       sum\n",
       "stop_year                             \n",
       "2005        2558  233.333333   21000.0\n",
       "2006       10639  225.960000    5649.0\n",
       "2007        9476  201.565217    4636.0\n",
       "2008        8752  200.785714    2811.0\n",
       "2009        7908  219.866667    9894.0\n",
       "2010        7561  201.263158    3824.0\n",
       "2011        8126  218.774510   22315.0\n",
       "2012       10970  219.386243  124392.0\n",
       "2013        7924  224.380000   11219.0\n",
       "2014        9228  207.813953    8936.0\n",
       "2015        8599  219.875000   22867.0"
      ]
     },
     "execution_count": 13,
     "metadata": {},
     "output_type": "execute_result"
    }
   ],
   "source": [
    "# Save the result from the operation of the previous section in an object named\n",
    "# temp_df\n",
    "temp_df = g_year.agg(\n",
    "    count=('ticket_amount', 'size'),\n",
    "    mean=('ticket_amount', 'mean'),\n",
    "    sum=('ticket_amount', 'sum')\n",
    ")\n",
    "temp_df\n"
   ]
  },
  {
   "cell_type": "code",
   "execution_count": 14,
   "metadata": {},
   "outputs": [
    {
     "data": {
      "text/plain": [
       "7924"
      ]
     },
     "execution_count": 14,
     "metadata": {},
     "output_type": "execute_result"
    }
   ],
   "source": [
    "# Look at the temp_df and answer the following questions:\n",
    "# a. What is the total monetary amount of tickets issued in 2010?\n",
    "temp_df.loc[2010,\"sum\"]\n",
    "\n",
    "# b. What is the average monetary amount of the tickets given in 2005?\n",
    "temp_df.loc[2005,\"mean\"]\n",
    "\n",
    "# c. What is the total number of tickets issued in 2013?\n",
    "temp_df.loc[2013,\"count\"]\n"
   ]
  },
  {
   "cell_type": "code",
   "execution_count": 15,
   "metadata": {},
   "outputs": [
    {
     "data": {
      "text/html": [
       "<div>\n",
       "<style scoped>\n",
       "    .dataframe tbody tr th:only-of-type {\n",
       "        vertical-align: middle;\n",
       "    }\n",
       "\n",
       "    .dataframe tbody tr th {\n",
       "        vertical-align: top;\n",
       "    }\n",
       "\n",
       "    .dataframe thead th {\n",
       "        text-align: right;\n",
       "    }\n",
       "</style>\n",
       "<table border=\"1\" class=\"dataframe\">\n",
       "  <thead>\n",
       "    <tr style=\"text-align: right;\">\n",
       "      <th></th>\n",
       "      <th>count</th>\n",
       "      <th>mean</th>\n",
       "      <th>sum</th>\n",
       "    </tr>\n",
       "    <tr>\n",
       "      <th>stop_year</th>\n",
       "      <th></th>\n",
       "      <th></th>\n",
       "      <th></th>\n",
       "    </tr>\n",
       "  </thead>\n",
       "  <tbody>\n",
       "    <tr>\n",
       "      <th>2012</th>\n",
       "      <td>10970</td>\n",
       "      <td>219.386243</td>\n",
       "      <td>124392.0</td>\n",
       "    </tr>\n",
       "    <tr>\n",
       "      <th>2015</th>\n",
       "      <td>8599</td>\n",
       "      <td>219.875000</td>\n",
       "      <td>22867.0</td>\n",
       "    </tr>\n",
       "    <tr>\n",
       "      <th>2011</th>\n",
       "      <td>8126</td>\n",
       "      <td>218.774510</td>\n",
       "      <td>22315.0</td>\n",
       "    </tr>\n",
       "    <tr>\n",
       "      <th>2005</th>\n",
       "      <td>2558</td>\n",
       "      <td>233.333333</td>\n",
       "      <td>21000.0</td>\n",
       "    </tr>\n",
       "    <tr>\n",
       "      <th>2013</th>\n",
       "      <td>7924</td>\n",
       "      <td>224.380000</td>\n",
       "      <td>11219.0</td>\n",
       "    </tr>\n",
       "    <tr>\n",
       "      <th>2009</th>\n",
       "      <td>7908</td>\n",
       "      <td>219.866667</td>\n",
       "      <td>9894.0</td>\n",
       "    </tr>\n",
       "    <tr>\n",
       "      <th>2014</th>\n",
       "      <td>9228</td>\n",
       "      <td>207.813953</td>\n",
       "      <td>8936.0</td>\n",
       "    </tr>\n",
       "    <tr>\n",
       "      <th>2006</th>\n",
       "      <td>10639</td>\n",
       "      <td>225.960000</td>\n",
       "      <td>5649.0</td>\n",
       "    </tr>\n",
       "    <tr>\n",
       "      <th>2007</th>\n",
       "      <td>9476</td>\n",
       "      <td>201.565217</td>\n",
       "      <td>4636.0</td>\n",
       "    </tr>\n",
       "    <tr>\n",
       "      <th>2010</th>\n",
       "      <td>7561</td>\n",
       "      <td>201.263158</td>\n",
       "      <td>3824.0</td>\n",
       "    </tr>\n",
       "    <tr>\n",
       "      <th>2008</th>\n",
       "      <td>8752</td>\n",
       "      <td>200.785714</td>\n",
       "      <td>2811.0</td>\n",
       "    </tr>\n",
       "  </tbody>\n",
       "</table>\n",
       "</div>"
      ],
      "text/plain": [
       "           count        mean       sum\n",
       "stop_year                             \n",
       "2012       10970  219.386243  124392.0\n",
       "2015        8599  219.875000   22867.0\n",
       "2011        8126  218.774510   22315.0\n",
       "2005        2558  233.333333   21000.0\n",
       "2013        7924  224.380000   11219.0\n",
       "2009        7908  219.866667    9894.0\n",
       "2014        9228  207.813953    8936.0\n",
       "2006       10639  225.960000    5649.0\n",
       "2007        9476  201.565217    4636.0\n",
       "2010        7561  201.263158    3824.0\n",
       "2008        8752  200.785714    2811.0"
      ]
     },
     "execution_count": 15,
     "metadata": {},
     "output_type": "execute_result"
    }
   ],
   "source": [
    "# Sort temp_df by the values in the sum column in descending order.\n",
    "# Which year has the highest monetary total of tickets? ans: 2012\n",
    "temp_df.sort_values(by='sum', ascending=False)\n"
   ]
  },
  {
   "cell_type": "code",
   "execution_count": 16,
   "metadata": {},
   "outputs": [
    {
     "data": {
      "text/html": [
       "<div>\n",
       "<style scoped>\n",
       "    .dataframe tbody tr th:only-of-type {\n",
       "        vertical-align: middle;\n",
       "    }\n",
       "\n",
       "    .dataframe tbody tr th {\n",
       "        vertical-align: top;\n",
       "    }\n",
       "\n",
       "    .dataframe thead th {\n",
       "        text-align: right;\n",
       "    }\n",
       "</style>\n",
       "<table border=\"1\" class=\"dataframe\">\n",
       "  <thead>\n",
       "    <tr style=\"text-align: right;\">\n",
       "      <th></th>\n",
       "      <th>count</th>\n",
       "      <th>mean</th>\n",
       "      <th>sum</th>\n",
       "    </tr>\n",
       "    <tr>\n",
       "      <th>stop_year</th>\n",
       "      <th></th>\n",
       "      <th></th>\n",
       "      <th></th>\n",
       "    </tr>\n",
       "  </thead>\n",
       "  <tbody>\n",
       "    <tr>\n",
       "      <th>2008</th>\n",
       "      <td>8752</td>\n",
       "      <td>200.785714</td>\n",
       "      <td>2811.0</td>\n",
       "    </tr>\n",
       "    <tr>\n",
       "      <th>2010</th>\n",
       "      <td>7561</td>\n",
       "      <td>201.263158</td>\n",
       "      <td>3824.0</td>\n",
       "    </tr>\n",
       "    <tr>\n",
       "      <th>2007</th>\n",
       "      <td>9476</td>\n",
       "      <td>201.565217</td>\n",
       "      <td>4636.0</td>\n",
       "    </tr>\n",
       "    <tr>\n",
       "      <th>2014</th>\n",
       "      <td>9228</td>\n",
       "      <td>207.813953</td>\n",
       "      <td>8936.0</td>\n",
       "    </tr>\n",
       "    <tr>\n",
       "      <th>2011</th>\n",
       "      <td>8126</td>\n",
       "      <td>218.774510</td>\n",
       "      <td>22315.0</td>\n",
       "    </tr>\n",
       "    <tr>\n",
       "      <th>2012</th>\n",
       "      <td>10970</td>\n",
       "      <td>219.386243</td>\n",
       "      <td>124392.0</td>\n",
       "    </tr>\n",
       "    <tr>\n",
       "      <th>2009</th>\n",
       "      <td>7908</td>\n",
       "      <td>219.866667</td>\n",
       "      <td>9894.0</td>\n",
       "    </tr>\n",
       "    <tr>\n",
       "      <th>2015</th>\n",
       "      <td>8599</td>\n",
       "      <td>219.875000</td>\n",
       "      <td>22867.0</td>\n",
       "    </tr>\n",
       "    <tr>\n",
       "      <th>2013</th>\n",
       "      <td>7924</td>\n",
       "      <td>224.380000</td>\n",
       "      <td>11219.0</td>\n",
       "    </tr>\n",
       "    <tr>\n",
       "      <th>2006</th>\n",
       "      <td>10639</td>\n",
       "      <td>225.960000</td>\n",
       "      <td>5649.0</td>\n",
       "    </tr>\n",
       "    <tr>\n",
       "      <th>2005</th>\n",
       "      <td>2558</td>\n",
       "      <td>233.333333</td>\n",
       "      <td>21000.0</td>\n",
       "    </tr>\n",
       "  </tbody>\n",
       "</table>\n",
       "</div>"
      ],
      "text/plain": [
       "           count        mean       sum\n",
       "stop_year                             \n",
       "2008        8752  200.785714    2811.0\n",
       "2010        7561  201.263158    3824.0\n",
       "2007        9476  201.565217    4636.0\n",
       "2014        9228  207.813953    8936.0\n",
       "2011        8126  218.774510   22315.0\n",
       "2012       10970  219.386243  124392.0\n",
       "2009        7908  219.866667    9894.0\n",
       "2015        8599  219.875000   22867.0\n",
       "2013        7924  224.380000   11219.0\n",
       "2006       10639  225.960000    5649.0\n",
       "2005        2558  233.333333   21000.0"
      ]
     },
     "execution_count": 16,
     "metadata": {},
     "output_type": "execute_result"
    }
   ],
   "source": [
    "# Sort temp_df by the values in the mean column in descending order.\n",
    "# Which year has the lowest average amount of tickets? Ans: 2008\n",
    "temp_df.sort_values(by=\"mean\")"
   ]
  },
  {
   "cell_type": "code",
   "execution_count": 20,
   "metadata": {},
   "outputs": [
    {
     "data": {
      "text/plain": [
       "215.72761784093572"
      ]
     },
     "execution_count": 20,
     "metadata": {},
     "output_type": "execute_result"
    }
   ],
   "source": [
    "# Use temp_df, and calculate what is the average of the sum of the tickets of all the\n",
    "# months?\n",
    "# Save the answer into a variable called mean_years_ticket\n",
    "temp_df[\"mean\"].mean()"
   ]
  }
 ],
 "metadata": {
  "kernelspec": {
   "display_name": "Python 3",
   "language": "python",
   "name": "python3"
  },
  "language_info": {
   "codemirror_mode": {
    "name": "ipython",
    "version": 3
   },
   "file_extension": ".py",
   "mimetype": "text/x-python",
   "name": "python",
   "nbconvert_exporter": "python",
   "pygments_lexer": "ipython3",
   "version": "3.11.9"
  }
 },
 "nbformat": 4,
 "nbformat_minor": 2
}
