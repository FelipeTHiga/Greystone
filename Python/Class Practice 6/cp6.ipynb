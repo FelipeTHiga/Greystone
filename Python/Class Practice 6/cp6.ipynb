{
 "cells": [
  {
   "cell_type": "code",
   "execution_count": 72,
   "metadata": {},
   "outputs": [],
   "source": [
    "# Import the Pandas Library to the notebook\n",
    "import pandas as pd"
   ]
  },
  {
   "cell_type": "markdown",
   "metadata": {},
   "source": [
    "### Concatenate"
   ]
  },
  {
   "cell_type": "code",
   "execution_count": 73,
   "metadata": {},
   "outputs": [
    {
     "name": "stdout",
     "output_type": "stream",
     "text": [
      "DF1 \n",
      "    Customer no  Product Code\n",
      "0            1          1003\n",
      "1            1          1011\n",
      "2            1          1010\n",
      "3            1          1008\n",
      "4            1          1002 \n",
      " DF2 \n",
      "    Customer no  Product Code\n",
      "0            2          1000\n",
      "1            2          1004\n",
      "2            2          1011\n",
      "3            2          1003\n",
      "4            2          1009 \n",
      " DF3 \n",
      "    Customer no  Product Code\n",
      "0            3          1000\n",
      "1            3          1004\n",
      "2            3          1011\n",
      "3            3          1003\n",
      "4            3          1009\n",
      "5            3          1000\n",
      "6            3          1002\n"
     ]
    }
   ],
   "source": [
    "# From the \"Data\" folder, import the following files into DataFrame objects, and\n",
    "# display their contents:\n",
    "# (These files contain each family's daily shopping list)\n",
    "# List of file paths\n",
    "file_paths = [\n",
    "    \"../Python-DataFiles/Lesson 6/Family_1_groceries.csv\",\n",
    "    \"../Python-DataFiles/Lesson 6/Family_2_groceries.csv\",\n",
    "    \"../Python-DataFiles/Lesson 6/Family_3_groceries.csv\"\n",
    "]\n",
    "\n",
    "# Read the files into a list of DataFrames\n",
    "dfs = [pd.read_csv(file, engine=\"python\") for file in file_paths]\n",
    "\n",
    "# Assign each DataFrame to a variable\n",
    "df1, df2, df3 = dfs\n",
    "\n",
    "print(f\"DF1 \\n {df1} \\n DF2 \\n {df2} \\n DF3 \\n {df3}\")"
   ]
  },
  {
   "cell_type": "code",
   "execution_count": 74,
   "metadata": {},
   "outputs": [
    {
     "data": {
      "text/html": [
       "<div>\n",
       "<style scoped>\n",
       "    .dataframe tbody tr th:only-of-type {\n",
       "        vertical-align: middle;\n",
       "    }\n",
       "\n",
       "    .dataframe tbody tr th {\n",
       "        vertical-align: top;\n",
       "    }\n",
       "\n",
       "    .dataframe thead th {\n",
       "        text-align: right;\n",
       "    }\n",
       "</style>\n",
       "<table border=\"1\" class=\"dataframe\">\n",
       "  <thead>\n",
       "    <tr style=\"text-align: right;\">\n",
       "      <th></th>\n",
       "      <th>Customer no</th>\n",
       "      <th>Product Code</th>\n",
       "    </tr>\n",
       "  </thead>\n",
       "  <tbody>\n",
       "    <tr>\n",
       "      <th>0</th>\n",
       "      <td>1</td>\n",
       "      <td>1003</td>\n",
       "    </tr>\n",
       "    <tr>\n",
       "      <th>1</th>\n",
       "      <td>1</td>\n",
       "      <td>1011</td>\n",
       "    </tr>\n",
       "    <tr>\n",
       "      <th>2</th>\n",
       "      <td>1</td>\n",
       "      <td>1010</td>\n",
       "    </tr>\n",
       "    <tr>\n",
       "      <th>3</th>\n",
       "      <td>1</td>\n",
       "      <td>1008</td>\n",
       "    </tr>\n",
       "    <tr>\n",
       "      <th>4</th>\n",
       "      <td>1</td>\n",
       "      <td>1002</td>\n",
       "    </tr>\n",
       "    <tr>\n",
       "      <th>5</th>\n",
       "      <td>2</td>\n",
       "      <td>1000</td>\n",
       "    </tr>\n",
       "    <tr>\n",
       "      <th>6</th>\n",
       "      <td>2</td>\n",
       "      <td>1004</td>\n",
       "    </tr>\n",
       "    <tr>\n",
       "      <th>7</th>\n",
       "      <td>2</td>\n",
       "      <td>1011</td>\n",
       "    </tr>\n",
       "    <tr>\n",
       "      <th>8</th>\n",
       "      <td>2</td>\n",
       "      <td>1003</td>\n",
       "    </tr>\n",
       "    <tr>\n",
       "      <th>9</th>\n",
       "      <td>2</td>\n",
       "      <td>1009</td>\n",
       "    </tr>\n",
       "    <tr>\n",
       "      <th>10</th>\n",
       "      <td>3</td>\n",
       "      <td>1000</td>\n",
       "    </tr>\n",
       "    <tr>\n",
       "      <th>11</th>\n",
       "      <td>3</td>\n",
       "      <td>1004</td>\n",
       "    </tr>\n",
       "    <tr>\n",
       "      <th>12</th>\n",
       "      <td>3</td>\n",
       "      <td>1011</td>\n",
       "    </tr>\n",
       "    <tr>\n",
       "      <th>13</th>\n",
       "      <td>3</td>\n",
       "      <td>1003</td>\n",
       "    </tr>\n",
       "    <tr>\n",
       "      <th>14</th>\n",
       "      <td>3</td>\n",
       "      <td>1009</td>\n",
       "    </tr>\n",
       "    <tr>\n",
       "      <th>15</th>\n",
       "      <td>3</td>\n",
       "      <td>1000</td>\n",
       "    </tr>\n",
       "    <tr>\n",
       "      <th>16</th>\n",
       "      <td>3</td>\n",
       "      <td>1002</td>\n",
       "    </tr>\n",
       "  </tbody>\n",
       "</table>\n",
       "</div>"
      ],
      "text/plain": [
       "    Customer no  Product Code\n",
       "0             1          1003\n",
       "1             1          1011\n",
       "2             1          1010\n",
       "3             1          1008\n",
       "4             1          1002\n",
       "5             2          1000\n",
       "6             2          1004\n",
       "7             2          1011\n",
       "8             2          1003\n",
       "9             2          1009\n",
       "10            3          1000\n",
       "11            3          1004\n",
       "12            3          1011\n",
       "13            3          1003\n",
       "14            3          1009\n",
       "15            3          1000\n",
       "16            3          1002"
      ]
     },
     "execution_count": 74,
     "metadata": {},
     "output_type": "execute_result"
    }
   ],
   "source": [
    "# Merge the shopping data of the three families (df1, df2, df3) into a new DataFrame\n",
    "# called shop_df, which will contain the complete shopping list of all the families.\n",
    "# Because the indices of the rows are in disarray, please re-index the rows anew\n",
    "\n",
    "# Merge the dataframes from dfs and already create a new index\n",
    "shop_df = pd.concat(dfs, ignore_index=True)\n",
    "shop_df"
   ]
  },
  {
   "cell_type": "code",
   "execution_count": 75,
   "metadata": {},
   "outputs": [
    {
     "name": "stdout",
     "output_type": "stream",
     "text": [
      "<class 'pandas.core.frame.DataFrame'>\n",
      "RangeIndex: 17 entries, 0 to 16\n",
      "Data columns (total 2 columns):\n",
      " #   Column        Non-Null Count  Dtype\n",
      "---  ------        --------------  -----\n",
      " 0   Customer no   17 non-null     int64\n",
      " 1   Product Code  17 non-null     int64\n",
      "dtypes: int64(2)\n",
      "memory usage: 404.0 bytes\n"
     ]
    }
   ],
   "source": [
    "#  How many purchase rows did the three families make on the day documented in\n",
    "# the data? 17 rows\n",
    "shop_df.info()"
   ]
  },
  {
   "cell_type": "code",
   "execution_count": 76,
   "metadata": {},
   "outputs": [
    {
     "data": {
      "text/html": [
       "<div>\n",
       "<style scoped>\n",
       "    .dataframe tbody tr th:only-of-type {\n",
       "        vertical-align: middle;\n",
       "    }\n",
       "\n",
       "    .dataframe tbody tr th {\n",
       "        vertical-align: top;\n",
       "    }\n",
       "\n",
       "    .dataframe thead th {\n",
       "        text-align: right;\n",
       "    }\n",
       "</style>\n",
       "<table border=\"1\" class=\"dataframe\">\n",
       "  <thead>\n",
       "    <tr style=\"text-align: right;\">\n",
       "      <th></th>\n",
       "      <th>Customer no</th>\n",
       "      <th>Product Code</th>\n",
       "    </tr>\n",
       "  </thead>\n",
       "  <tbody>\n",
       "    <tr>\n",
       "      <th>1</th>\n",
       "      <td>1</td>\n",
       "      <td>1011</td>\n",
       "    </tr>\n",
       "    <tr>\n",
       "      <th>5</th>\n",
       "      <td>2</td>\n",
       "      <td>1000</td>\n",
       "    </tr>\n",
       "    <tr>\n",
       "      <th>10</th>\n",
       "      <td>3</td>\n",
       "      <td>1000</td>\n",
       "    </tr>\n",
       "  </tbody>\n",
       "</table>\n",
       "</div>"
      ],
      "text/plain": [
       "    Customer no  Product Code\n",
       "1             1          1011\n",
       "5             2          1000\n",
       "10            3          1000"
      ]
     },
     "execution_count": 76,
     "metadata": {},
     "output_type": "execute_result"
    }
   ],
   "source": [
    "# Which families purchased item number 1011 or 1000\n",
    "# If you need to look for a method that deletes duplicate values, search the web for\n",
    "# how to do this\n",
    "product_filter = shop_df['Product Code'].isin([1011, 1000])\n",
    "\n",
    "\n",
    "# Drop duplicate customer numbers \n",
    "shop_df[product_filter].drop_duplicates(\"Customer no\")"
   ]
  },
  {
   "cell_type": "code",
   "execution_count": 77,
   "metadata": {},
   "outputs": [
    {
     "name": "stdout",
     "output_type": "stream",
     "text": [
      "The best-selling item is 1000, and it was sold 3 times.\n"
     ]
    }
   ],
   "source": [
    "# What is the best-selling item, and how many times was it sold?\n",
    "products_count = shop_df.groupby('Product Code').size()\n",
    "\n",
    "best_selling_item = products_count.idxmax()\n",
    "best_selling_qty = products_count.max()\n",
    "\n",
    "print(f\"The best-selling item is {best_selling_item}, and it was sold {best_selling_qty} times.\")"
   ]
  },
  {
   "cell_type": "code",
   "execution_count": 78,
   "metadata": {},
   "outputs": [
    {
     "data": {
      "text/plain": [
       "Customer no\n",
       "1    5\n",
       "2    5\n",
       "3    7\n",
       "dtype: int64"
      ]
     },
     "execution_count": 78,
     "metadata": {},
     "output_type": "execute_result"
    }
   ],
   "source": [
    "# Which family purchased the most items, how many times did the family shop?\n",
    "# ANS: Family 3, shopping 7 items\n",
    "shop_df.groupby(\"Customer no\").size()"
   ]
  },
  {
   "cell_type": "code",
   "execution_count": 79,
   "metadata": {},
   "outputs": [
    {
     "data": {
      "text/plain": [
       "Customer no\n",
       "1    4\n",
       "2    3\n",
       "3    4\n",
       "dtype: int64"
      ]
     },
     "execution_count": 79,
     "metadata": {},
     "output_type": "execute_result"
    }
   ],
   "source": [
    "# Which family bought the most items if you don’t include the sales for items 1000 &\n",
    "# 1011.\n",
    "\n",
    "items_filter = (shop_df[\"Product Code\"] == 1000)  | (shop_df[\"Product Code\"] == 1011)\n",
    "\n",
    "# Used the (~) to negate the filter\n",
    "shop_df[~items_filter].groupby(\"Customer no\").size()\n",
    "\n",
    "# ASN: Family 1 and 3 bought most items in this case"
   ]
  },
  {
   "cell_type": "code",
   "execution_count": 80,
   "metadata": {},
   "outputs": [
    {
     "data": {
      "text/plain": [
       "3"
      ]
     },
     "execution_count": 80,
     "metadata": {},
     "output_type": "execute_result"
    }
   ],
   "source": [
    "# How many times was item number 1003 purchased?\n",
    "items_filter = shop_df[\"Product Code\"] == 1003\n",
    "shop_df[items_filter][\"Customer no\"].count()\n",
    "\n",
    "# ANS: 3 times "
   ]
  },
  {
   "cell_type": "markdown",
   "metadata": {},
   "source": [
    "### Merge"
   ]
  },
  {
   "cell_type": "code",
   "execution_count": 81,
   "metadata": {},
   "outputs": [
    {
     "data": {
      "text/html": [
       "<div>\n",
       "<style scoped>\n",
       "    .dataframe tbody tr th:only-of-type {\n",
       "        vertical-align: middle;\n",
       "    }\n",
       "\n",
       "    .dataframe tbody tr th {\n",
       "        vertical-align: top;\n",
       "    }\n",
       "\n",
       "    .dataframe thead th {\n",
       "        text-align: right;\n",
       "    }\n",
       "</style>\n",
       "<table border=\"1\" class=\"dataframe\">\n",
       "  <thead>\n",
       "    <tr style=\"text-align: right;\">\n",
       "      <th></th>\n",
       "      <th>Code</th>\n",
       "      <th>Description</th>\n",
       "      <th>Price</th>\n",
       "    </tr>\n",
       "  </thead>\n",
       "  <tbody>\n",
       "    <tr>\n",
       "      <th>0</th>\n",
       "      <td>1000</td>\n",
       "      <td>Bread</td>\n",
       "      <td>7.5</td>\n",
       "    </tr>\n",
       "    <tr>\n",
       "      <th>1</th>\n",
       "      <td>1001</td>\n",
       "      <td>Soy milk</td>\n",
       "      <td>10.0</td>\n",
       "    </tr>\n",
       "    <tr>\n",
       "      <th>2</th>\n",
       "      <td>1002</td>\n",
       "      <td>Eggs</td>\n",
       "      <td>30.0</td>\n",
       "    </tr>\n",
       "    <tr>\n",
       "      <th>3</th>\n",
       "      <td>1003</td>\n",
       "      <td>Cheese</td>\n",
       "      <td>5.5</td>\n",
       "    </tr>\n",
       "    <tr>\n",
       "      <th>4</th>\n",
       "      <td>1004</td>\n",
       "      <td>Mineral water</td>\n",
       "      <td>12.0</td>\n",
       "    </tr>\n",
       "    <tr>\n",
       "      <th>5</th>\n",
       "      <td>1005</td>\n",
       "      <td>Pasta</td>\n",
       "      <td>5.0</td>\n",
       "    </tr>\n",
       "    <tr>\n",
       "      <th>6</th>\n",
       "      <td>1006</td>\n",
       "      <td>Bamba</td>\n",
       "      <td>5.0</td>\n",
       "    </tr>\n",
       "    <tr>\n",
       "      <th>7</th>\n",
       "      <td>1007</td>\n",
       "      <td>Almonds</td>\n",
       "      <td>20.0</td>\n",
       "    </tr>\n",
       "    <tr>\n",
       "      <th>8</th>\n",
       "      <td>1008</td>\n",
       "      <td>Quinoa</td>\n",
       "      <td>15.0</td>\n",
       "    </tr>\n",
       "    <tr>\n",
       "      <th>9</th>\n",
       "      <td>1009</td>\n",
       "      <td>Rice</td>\n",
       "      <td>10.0</td>\n",
       "    </tr>\n",
       "    <tr>\n",
       "      <th>10</th>\n",
       "      <td>1010</td>\n",
       "      <td>Honey</td>\n",
       "      <td>13.0</td>\n",
       "    </tr>\n",
       "    <tr>\n",
       "      <th>11</th>\n",
       "      <td>1011</td>\n",
       "      <td>Dark Chocolate</td>\n",
       "      <td>21.0</td>\n",
       "    </tr>\n",
       "  </tbody>\n",
       "</table>\n",
       "</div>"
      ],
      "text/plain": [
       "    Code     Description  Price\n",
       "0   1000           Bread    7.5\n",
       "1   1001        Soy milk   10.0\n",
       "2   1002            Eggs   30.0\n",
       "3   1003          Cheese    5.5\n",
       "4   1004   Mineral water   12.0\n",
       "5   1005           Pasta    5.0\n",
       "6   1006           Bamba    5.0\n",
       "7   1007         Almonds   20.0\n",
       "8   1008          Quinoa   15.0\n",
       "9   1009            Rice   10.0\n",
       "10  1010           Honey   13.0\n",
       "11  1011  Dark Chocolate   21.0"
      ]
     },
     "execution_count": 81,
     "metadata": {},
     "output_type": "execute_result"
    }
   ],
   "source": [
    "# Import the Groceries file into a variable named gr_df\n",
    "gr_df = pd.read_csv(\"../Python-DataFiles/Lesson 6/Groceries.csv\",                   \n",
    "                  engine=\"python\")\n",
    "\n",
    "gr_df"
   ]
  },
  {
   "cell_type": "code",
   "execution_count": 82,
   "metadata": {},
   "outputs": [
    {
     "data": {
      "text/html": [
       "<div>\n",
       "<style scoped>\n",
       "    .dataframe tbody tr th:only-of-type {\n",
       "        vertical-align: middle;\n",
       "    }\n",
       "\n",
       "    .dataframe tbody tr th {\n",
       "        vertical-align: top;\n",
       "    }\n",
       "\n",
       "    .dataframe thead th {\n",
       "        text-align: right;\n",
       "    }\n",
       "</style>\n",
       "<table border=\"1\" class=\"dataframe\">\n",
       "  <thead>\n",
       "    <tr style=\"text-align: right;\">\n",
       "      <th></th>\n",
       "      <th>Customer no</th>\n",
       "      <th>Product Code</th>\n",
       "      <th>Code</th>\n",
       "      <th>Description</th>\n",
       "      <th>Price</th>\n",
       "    </tr>\n",
       "  </thead>\n",
       "  <tbody>\n",
       "    <tr>\n",
       "      <th>0</th>\n",
       "      <td>1</td>\n",
       "      <td>1003</td>\n",
       "      <td>1003</td>\n",
       "      <td>Cheese</td>\n",
       "      <td>5.5</td>\n",
       "    </tr>\n",
       "    <tr>\n",
       "      <th>1</th>\n",
       "      <td>1</td>\n",
       "      <td>1011</td>\n",
       "      <td>1011</td>\n",
       "      <td>Dark Chocolate</td>\n",
       "      <td>21.0</td>\n",
       "    </tr>\n",
       "    <tr>\n",
       "      <th>2</th>\n",
       "      <td>1</td>\n",
       "      <td>1010</td>\n",
       "      <td>1010</td>\n",
       "      <td>Honey</td>\n",
       "      <td>13.0</td>\n",
       "    </tr>\n",
       "    <tr>\n",
       "      <th>3</th>\n",
       "      <td>1</td>\n",
       "      <td>1008</td>\n",
       "      <td>1008</td>\n",
       "      <td>Quinoa</td>\n",
       "      <td>15.0</td>\n",
       "    </tr>\n",
       "    <tr>\n",
       "      <th>4</th>\n",
       "      <td>1</td>\n",
       "      <td>1002</td>\n",
       "      <td>1002</td>\n",
       "      <td>Eggs</td>\n",
       "      <td>30.0</td>\n",
       "    </tr>\n",
       "    <tr>\n",
       "      <th>5</th>\n",
       "      <td>2</td>\n",
       "      <td>1000</td>\n",
       "      <td>1000</td>\n",
       "      <td>Bread</td>\n",
       "      <td>7.5</td>\n",
       "    </tr>\n",
       "    <tr>\n",
       "      <th>6</th>\n",
       "      <td>2</td>\n",
       "      <td>1004</td>\n",
       "      <td>1004</td>\n",
       "      <td>Mineral water</td>\n",
       "      <td>12.0</td>\n",
       "    </tr>\n",
       "    <tr>\n",
       "      <th>7</th>\n",
       "      <td>2</td>\n",
       "      <td>1011</td>\n",
       "      <td>1011</td>\n",
       "      <td>Dark Chocolate</td>\n",
       "      <td>21.0</td>\n",
       "    </tr>\n",
       "    <tr>\n",
       "      <th>8</th>\n",
       "      <td>2</td>\n",
       "      <td>1003</td>\n",
       "      <td>1003</td>\n",
       "      <td>Cheese</td>\n",
       "      <td>5.5</td>\n",
       "    </tr>\n",
       "    <tr>\n",
       "      <th>9</th>\n",
       "      <td>2</td>\n",
       "      <td>1009</td>\n",
       "      <td>1009</td>\n",
       "      <td>Rice</td>\n",
       "      <td>10.0</td>\n",
       "    </tr>\n",
       "    <tr>\n",
       "      <th>10</th>\n",
       "      <td>3</td>\n",
       "      <td>1000</td>\n",
       "      <td>1000</td>\n",
       "      <td>Bread</td>\n",
       "      <td>7.5</td>\n",
       "    </tr>\n",
       "    <tr>\n",
       "      <th>11</th>\n",
       "      <td>3</td>\n",
       "      <td>1004</td>\n",
       "      <td>1004</td>\n",
       "      <td>Mineral water</td>\n",
       "      <td>12.0</td>\n",
       "    </tr>\n",
       "    <tr>\n",
       "      <th>12</th>\n",
       "      <td>3</td>\n",
       "      <td>1011</td>\n",
       "      <td>1011</td>\n",
       "      <td>Dark Chocolate</td>\n",
       "      <td>21.0</td>\n",
       "    </tr>\n",
       "    <tr>\n",
       "      <th>13</th>\n",
       "      <td>3</td>\n",
       "      <td>1003</td>\n",
       "      <td>1003</td>\n",
       "      <td>Cheese</td>\n",
       "      <td>5.5</td>\n",
       "    </tr>\n",
       "    <tr>\n",
       "      <th>14</th>\n",
       "      <td>3</td>\n",
       "      <td>1009</td>\n",
       "      <td>1009</td>\n",
       "      <td>Rice</td>\n",
       "      <td>10.0</td>\n",
       "    </tr>\n",
       "    <tr>\n",
       "      <th>15</th>\n",
       "      <td>3</td>\n",
       "      <td>1000</td>\n",
       "      <td>1000</td>\n",
       "      <td>Bread</td>\n",
       "      <td>7.5</td>\n",
       "    </tr>\n",
       "    <tr>\n",
       "      <th>16</th>\n",
       "      <td>3</td>\n",
       "      <td>1002</td>\n",
       "      <td>1002</td>\n",
       "      <td>Eggs</td>\n",
       "      <td>30.0</td>\n",
       "    </tr>\n",
       "  </tbody>\n",
       "</table>\n",
       "</div>"
      ],
      "text/plain": [
       "    Customer no  Product Code  Code     Description  Price\n",
       "0             1          1003  1003          Cheese    5.5\n",
       "1             1          1011  1011  Dark Chocolate   21.0\n",
       "2             1          1010  1010           Honey   13.0\n",
       "3             1          1008  1008          Quinoa   15.0\n",
       "4             1          1002  1002            Eggs   30.0\n",
       "5             2          1000  1000           Bread    7.5\n",
       "6             2          1004  1004   Mineral water   12.0\n",
       "7             2          1011  1011  Dark Chocolate   21.0\n",
       "8             2          1003  1003          Cheese    5.5\n",
       "9             2          1009  1009            Rice   10.0\n",
       "10            3          1000  1000           Bread    7.5\n",
       "11            3          1004  1004   Mineral water   12.0\n",
       "12            3          1011  1011  Dark Chocolate   21.0\n",
       "13            3          1003  1003          Cheese    5.5\n",
       "14            3          1009  1009            Rice   10.0\n",
       "15            3          1000  1000           Bread    7.5\n",
       "16            3          1002  1002            Eggs   30.0"
      ]
     },
     "execution_count": 82,
     "metadata": {},
     "output_type": "execute_result"
    }
   ],
   "source": [
    "# Merge the information from gr_df and shop_df into a new variable called sales, so\n",
    "# that for each row in shop_df, the product description and price will also be added.\n",
    "sales = shop_df.merge(gr_df,how=\"left\", left_on=\"Product Code\", right_on=\"Code\")\n",
    "sales"
   ]
  },
  {
   "cell_type": "code",
   "execution_count": 83,
   "metadata": {},
   "outputs": [],
   "source": [
    "# Delete repetitive columns, if there are any.\n",
    "sales.drop(columns=\"Code\", inplace=True)"
   ]
  },
  {
   "cell_type": "code",
   "execution_count": 84,
   "metadata": {},
   "outputs": [
    {
     "data": {
      "text/plain": [
       "234.0"
      ]
     },
     "execution_count": 84,
     "metadata": {},
     "output_type": "execute_result"
    }
   ],
   "source": [
    "# What is the total purchase amount for all of the families? $234.0\n",
    "sales[\"Price\"].sum()"
   ]
  },
  {
   "cell_type": "code",
   "execution_count": 86,
   "metadata": {},
   "outputs": [
    {
     "data": {
      "text/plain": [
       "84.5"
      ]
     },
     "execution_count": 86,
     "metadata": {},
     "output_type": "execute_result"
    }
   ],
   "source": [
    "# What is the purchase amount only for Family 1? $84.5\n",
    "family_filter = sales[\"Customer no\"] == 1\n",
    "\n",
    "sales.loc[family_filter,\"Price\"].sum()"
   ]
  },
  {
   "cell_type": "code",
   "execution_count": 94,
   "metadata": {},
   "outputs": [
    {
     "data": {
      "text/plain": [
       "21.0"
      ]
     },
     "execution_count": 94,
     "metadata": {},
     "output_type": "execute_result"
    }
   ],
   "source": [
    "# What is the amount of the most expensive item purchased by family number 2? $21.0\n",
    "family_filter = sales[\"Customer no\"] == 2\n",
    "\n",
    "sales.loc[family_filter,\"Price\"].max()"
   ]
  },
  {
   "cell_type": "code",
   "execution_count": 100,
   "metadata": {},
   "outputs": [
    {
     "data": {
      "text/plain": [
       "'Rice'"
      ]
     },
     "execution_count": 100,
     "metadata": {},
     "output_type": "execute_result"
    }
   ],
   "source": [
    "# What is the description of the most expensive item purchased by family number 2? \"Rice\"\n",
    "\n",
    "family_filter = sales[\"Customer no\"] == 2\n",
    "\n",
    "sales.loc[family_filter,[\"Price\",\"Description\"]].max()[\"Description\"]"
   ]
  },
  {
   "cell_type": "code",
   "execution_count": 112,
   "metadata": {},
   "outputs": [
    {
     "data": {
      "text/plain": [
       "Product Code  Description   \n",
       "1000          Bread             3\n",
       "1003          Cheese            3\n",
       "1011          Dark Chocolate    3\n",
       "1002          Eggs              2\n",
       "1004          Mineral water     2\n",
       "1009          Rice              2\n",
       "1008          Quinoa            1\n",
       "1010          Honey             1\n",
       "dtype: int64"
      ]
     },
     "execution_count": 112,
     "metadata": {},
     "output_type": "execute_result"
    }
   ],
   "source": [
    "# What item/s has/have been purchased the most times? \n",
    "# ANS: Bread, Cheese and Dark chocolate\n",
    "sales.groupby([\"Product Code\",\"Description\"]).size().sort_values(ascending=False)"
   ]
  },
  {
   "cell_type": "code",
   "execution_count": 132,
   "metadata": {},
   "outputs": [
    {
     "data": {
      "text/html": [
       "<div>\n",
       "<style scoped>\n",
       "    .dataframe tbody tr th:only-of-type {\n",
       "        vertical-align: middle;\n",
       "    }\n",
       "\n",
       "    .dataframe tbody tr th {\n",
       "        vertical-align: top;\n",
       "    }\n",
       "\n",
       "    .dataframe thead th {\n",
       "        text-align: right;\n",
       "    }\n",
       "</style>\n",
       "<table border=\"1\" class=\"dataframe\">\n",
       "  <thead>\n",
       "    <tr style=\"text-align: right;\">\n",
       "      <th></th>\n",
       "      <th>Product Code</th>\n",
       "      <th>Price</th>\n",
       "    </tr>\n",
       "    <tr>\n",
       "      <th>Product Code</th>\n",
       "      <th></th>\n",
       "      <th></th>\n",
       "    </tr>\n",
       "  </thead>\n",
       "  <tbody>\n",
       "    <tr>\n",
       "      <th>1011</th>\n",
       "      <td>3</td>\n",
       "      <td>63.0</td>\n",
       "    </tr>\n",
       "    <tr>\n",
       "      <th>1002</th>\n",
       "      <td>2</td>\n",
       "      <td>60.0</td>\n",
       "    </tr>\n",
       "    <tr>\n",
       "      <th>1004</th>\n",
       "      <td>2</td>\n",
       "      <td>24.0</td>\n",
       "    </tr>\n",
       "    <tr>\n",
       "      <th>1000</th>\n",
       "      <td>3</td>\n",
       "      <td>22.5</td>\n",
       "    </tr>\n",
       "    <tr>\n",
       "      <th>1009</th>\n",
       "      <td>2</td>\n",
       "      <td>20.0</td>\n",
       "    </tr>\n",
       "    <tr>\n",
       "      <th>1003</th>\n",
       "      <td>3</td>\n",
       "      <td>16.5</td>\n",
       "    </tr>\n",
       "    <tr>\n",
       "      <th>1008</th>\n",
       "      <td>1</td>\n",
       "      <td>15.0</td>\n",
       "    </tr>\n",
       "    <tr>\n",
       "      <th>1010</th>\n",
       "      <td>1</td>\n",
       "      <td>13.0</td>\n",
       "    </tr>\n",
       "  </tbody>\n",
       "</table>\n",
       "</div>"
      ],
      "text/plain": [
       "              Product Code  Price\n",
       "Product Code                     \n",
       "1011                     3   63.0\n",
       "1002                     2   60.0\n",
       "1004                     2   24.0\n",
       "1000                     3   22.5\n",
       "1009                     2   20.0\n",
       "1003                     3   16.5\n",
       "1008                     1   15.0\n",
       "1010                     1   13.0"
      ]
     },
     "execution_count": 133,
     "metadata": {},
     "output_type": "execute_result"
    }
   ],
   "source": [
    "# Use Group and Aggregate of the data to display a \"Product Sales Report\" that will\n",
    "# contain the following columns:\n",
    "# • Product code\n",
    "# • Quantity sold\n",
    "# • Total sales amount\n",
    "# Sort the display by total price from highest to lowest\n",
    "sales_group = sales.groupby(\"Product Code\").agg({\n",
    "        \"Product Code\":\"count\",\n",
    "        \"Price\": \"sum\"   \n",
    "    })\n",
    "\n",
    "sales_group.sort_values(by=\"Price\", ascending=False)"
   ]
  },
  {
   "cell_type": "markdown",
   "metadata": {},
   "source": [
    "###  Product analysis"
   ]
  },
  {
   "cell_type": "code",
   "execution_count": 121,
   "metadata": {},
   "outputs": [],
   "source": [
    "# Merge the information from gr_df and shop_df into a new variable called\n",
    "# products, so that for each row in gr_df, the product's sales data will be added - if\n",
    "# there were any (that is, if there were no sales for the product, the product data will\n",
    "# appear without sales data, and if the product had more than one sale, a row will\n",
    "# appear for each sales row)\n",
    "products = gr_df.merge(shop_df,how=\"left\", left_on=\"Code\", right_on=\"Product Code\")\n",
    "products.drop(columns=\"Product Code\", inplace=True)"
   ]
  },
  {
   "cell_type": "code",
   "execution_count": 123,
   "metadata": {},
   "outputs": [
    {
     "data": {
      "text/html": [
       "<div>\n",
       "<style scoped>\n",
       "    .dataframe tbody tr th:only-of-type {\n",
       "        vertical-align: middle;\n",
       "    }\n",
       "\n",
       "    .dataframe tbody tr th {\n",
       "        vertical-align: top;\n",
       "    }\n",
       "\n",
       "    .dataframe thead th {\n",
       "        text-align: right;\n",
       "    }\n",
       "</style>\n",
       "<table border=\"1\" class=\"dataframe\">\n",
       "  <thead>\n",
       "    <tr style=\"text-align: right;\">\n",
       "      <th></th>\n",
       "      <th>Code</th>\n",
       "      <th>Description</th>\n",
       "      <th>Price</th>\n",
       "      <th>Customer no</th>\n",
       "    </tr>\n",
       "  </thead>\n",
       "  <tbody>\n",
       "    <tr>\n",
       "      <th>3</th>\n",
       "      <td>1001</td>\n",
       "      <td>Soy milk</td>\n",
       "      <td>10.0</td>\n",
       "      <td>NaN</td>\n",
       "    </tr>\n",
       "    <tr>\n",
       "      <th>11</th>\n",
       "      <td>1005</td>\n",
       "      <td>Pasta</td>\n",
       "      <td>5.0</td>\n",
       "      <td>NaN</td>\n",
       "    </tr>\n",
       "    <tr>\n",
       "      <th>12</th>\n",
       "      <td>1006</td>\n",
       "      <td>Bamba</td>\n",
       "      <td>5.0</td>\n",
       "      <td>NaN</td>\n",
       "    </tr>\n",
       "    <tr>\n",
       "      <th>13</th>\n",
       "      <td>1007</td>\n",
       "      <td>Almonds</td>\n",
       "      <td>20.0</td>\n",
       "      <td>NaN</td>\n",
       "    </tr>\n",
       "  </tbody>\n",
       "</table>\n",
       "</div>"
      ],
      "text/plain": [
       "    Code Description  Price  Customer no\n",
       "3   1001    Soy milk   10.0          NaN\n",
       "11  1005       Pasta    5.0          NaN\n",
       "12  1006       Bamba    5.0          NaN\n",
       "13  1007     Almonds   20.0          NaN"
      ]
     },
     "execution_count": 123,
     "metadata": {},
     "output_type": "execute_result"
    }
   ],
   "source": [
    "# Are there any products that have never been purchased?\n",
    "# If so, show the product code, description, and price\n",
    "never_purchased_filter = products[\"Customer no\"].isna()\n",
    "\n",
    "products[never_purchased_filter]"
   ]
  },
  {
   "cell_type": "code",
   "execution_count": 130,
   "metadata": {},
   "outputs": [
    {
     "data": {
      "text/html": [
       "<div>\n",
       "<style scoped>\n",
       "    .dataframe tbody tr th:only-of-type {\n",
       "        vertical-align: middle;\n",
       "    }\n",
       "\n",
       "    .dataframe tbody tr th {\n",
       "        vertical-align: top;\n",
       "    }\n",
       "\n",
       "    .dataframe thead th {\n",
       "        text-align: right;\n",
       "    }\n",
       "</style>\n",
       "<table border=\"1\" class=\"dataframe\">\n",
       "  <thead>\n",
       "    <tr style=\"text-align: right;\">\n",
       "      <th></th>\n",
       "      <th>Quantity sold</th>\n",
       "      <th>Price</th>\n",
       "    </tr>\n",
       "    <tr>\n",
       "      <th>Code</th>\n",
       "      <th></th>\n",
       "      <th></th>\n",
       "    </tr>\n",
       "  </thead>\n",
       "  <tbody>\n",
       "    <tr>\n",
       "      <th>1011</th>\n",
       "      <td>3</td>\n",
       "      <td>63.0</td>\n",
       "    </tr>\n",
       "    <tr>\n",
       "      <th>1002</th>\n",
       "      <td>2</td>\n",
       "      <td>60.0</td>\n",
       "    </tr>\n",
       "    <tr>\n",
       "      <th>1004</th>\n",
       "      <td>2</td>\n",
       "      <td>24.0</td>\n",
       "    </tr>\n",
       "    <tr>\n",
       "      <th>1000</th>\n",
       "      <td>3</td>\n",
       "      <td>22.5</td>\n",
       "    </tr>\n",
       "    <tr>\n",
       "      <th>1007</th>\n",
       "      <td>0</td>\n",
       "      <td>20.0</td>\n",
       "    </tr>\n",
       "    <tr>\n",
       "      <th>1009</th>\n",
       "      <td>2</td>\n",
       "      <td>20.0</td>\n",
       "    </tr>\n",
       "    <tr>\n",
       "      <th>1003</th>\n",
       "      <td>3</td>\n",
       "      <td>16.5</td>\n",
       "    </tr>\n",
       "    <tr>\n",
       "      <th>1008</th>\n",
       "      <td>1</td>\n",
       "      <td>15.0</td>\n",
       "    </tr>\n",
       "    <tr>\n",
       "      <th>1010</th>\n",
       "      <td>1</td>\n",
       "      <td>13.0</td>\n",
       "    </tr>\n",
       "    <tr>\n",
       "      <th>1001</th>\n",
       "      <td>0</td>\n",
       "      <td>10.0</td>\n",
       "    </tr>\n",
       "    <tr>\n",
       "      <th>1005</th>\n",
       "      <td>0</td>\n",
       "      <td>5.0</td>\n",
       "    </tr>\n",
       "    <tr>\n",
       "      <th>1006</th>\n",
       "      <td>0</td>\n",
       "      <td>5.0</td>\n",
       "    </tr>\n",
       "  </tbody>\n",
       "</table>\n",
       "</div>"
      ],
      "text/plain": [
       "      Quantity sold  Price\n",
       "Code                      \n",
       "1011              3   63.0\n",
       "1002              2   60.0\n",
       "1004              2   24.0\n",
       "1000              3   22.5\n",
       "1007              0   20.0\n",
       "1009              2   20.0\n",
       "1003              3   16.5\n",
       "1008              1   15.0\n",
       "1010              1   13.0\n",
       "1001              0   10.0\n",
       "1005              0    5.0\n",
       "1006              0    5.0"
      ]
     },
     "execution_count": 130,
     "metadata": {},
     "output_type": "execute_result"
    }
   ],
   "source": [
    "# Use Group and Aggregate of the data to display a \"Product Sales Report\" that will\n",
    "# contain the following columns:\n",
    "# • Product code\n",
    "# • Quantity sold\n",
    "# • Total sale amount\n",
    "# Sort the display by total price from highest to lowest \n",
    "products_group = products.groupby(\"Code\").agg({\n",
    "    \"Customer no\":\"count\",\n",
    "    \"Price\" : \"sum\"\n",
    "})\n",
    "\n",
    "products_group.sort_values(\"Price\", ascending=False)"
   ]
  },
  {
   "cell_type": "markdown",
   "metadata": {},
   "source": [
    "<b>Continuing from the previous section, what is the difference between this report\n",
    "and the report in section 10?\n",
    "When do you think it would be worthwhile to use each of these reports?</b>\n",
    "\n",
    "The second report shows all products, including those that have never been purchased. This is helpful for managing inventory and seeing which items are not selling. The first report lists only the products that have been purchased, which is good for analyzing sales and deciding which items need to be reordered."
   ]
  }
 ],
 "metadata": {
  "kernelspec": {
   "display_name": "Python 3",
   "language": "python",
   "name": "python3"
  },
  "language_info": {
   "codemirror_mode": {
    "name": "ipython",
    "version": 3
   },
   "file_extension": ".py",
   "mimetype": "text/x-python",
   "name": "python",
   "nbconvert_exporter": "python",
   "pygments_lexer": "ipython3",
   "version": "3.11.9"
  }
 },
 "nbformat": 4,
 "nbformat_minor": 2
}
